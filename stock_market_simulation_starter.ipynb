{
  "nbformat": 4,
  "nbformat_minor": 0,
  "metadata": {
    "colab": {
      "private_outputs": true,
      "provenance": []
    },
    "kernelspec": {
      "name": "python3",
      "display_name": "Python 3"
    },
    "language_info": {
      "name": "python"
    }
  },
  "cells": [
    {
      "cell_type": "markdown",
      "source": [
        "\n",
        ">*The outline below is provided below is designed to guide you effectively through the simulation, analysis, and evaluation processes. Feel free to adapt this suggested structure by adding or removing sections to best communicate your findings.*\n",
        "\n",
        "## Title, Author, and Introduction\n",
        "\n",
        "This notebook serves as an interactive report to simulate and analyze the stock market. It aims to provide a deeper understanding of market dynamics, the impact of events, and potential trading strategies based on price and trends.\n",
        "\n",
        "## Simulation Overview\n",
        "\n",
        "In this section restate the purpose and what this notebook demonstrates.  Include a detailed explanation of each parameter used in the simulation with practical examples.\n",
        "\n",
        "\n",
        "## Baseline Simulation\n",
        "\n",
        "In this section we want to understand and visualise the popularity without the marketing day event event.\n",
        "\n",
        "First we need to install necessary packages."
      ],
      "metadata": {
        "id": "2ZACzFrFPglO"
      }
    },
    {
      "cell_type": "code",
      "execution_count": null,
      "metadata": {
        "id": "37NCcMfpNdQk"
      },
      "outputs": [],
      "source": [
        "!pip install git+https://github.com/teaching-repositories/simulacra.git -q"
      ]
    },
    {
      "cell_type": "markdown",
      "source": [
        "We need to\n",
        "  - **Import the necessary libraries**: Code cells to import libraries (like `matplotlib` for plotting and any other libraries needed).\n",
        "  - **Run the Simulation**: Code to run the simulation with zero marketing  impact.\n",
        "  - **Visuale the Results**: Plotting demand over time to establish a baseline."
      ],
      "metadata": {
        "id": "-5WD251nOeSu"
      }
    },
    {
      "cell_type": "code",
      "source": [
        "from simulacra.stock_market_simulation import StockMarketSimulation\n",
        "import matplotlib.pyplot as plt\n",
        "\n",
        "# Write a helper function\n",
        "def plot_prices(prices, event_day=None):\n",
        "    \"\"\"\n",
        "    Plots the stock prices from a simulation with an optional vertical line marking a major market event.\n",
        "\n",
        "    Parameters:\n",
        "        prices (List[float]): A list of stock prices to be plotted.\n",
        "        event_day (Optional[int]): The day on which the major market event occurs (defaults to None).\n",
        "\n",
        "    Returns:\n",
        "        None\n",
        "    \"\"\"\n",
        "    plt.figure(figsize=(10, 6))\n",
        "    plt.plot(prices, label='Stock Price')\n",
        "    if event_day is not None:\n",
        "        plt.axvline(x=event_day, color='red', linestyle='--', label='Major Market Event')\n",
        "    plt.xlabel('Days')\n",
        "    plt.ylabel('Price ($)')\n",
        "    plt.title('Stock Market Simulation')\n",
        "    plt.legend()\n",
        "    plt.show()\n",
        "\n",
        "# Create the simulation\n",
        "sim = StockMarketSimulation(start_price=100, days=365, volatility=0.03,\n",
        "                                drift=-0.001, event_day=100, event_impact=-0.2)\n",
        "\n",
        "# Run the simulation\n",
        "prices = sim.run_simulation()\n",
        "\n",
        "# Visualise the results\n",
        "plot_prices(prices, sim.event_day)"
      ],
      "metadata": {
        "id": "f1g6Dwp9N4Im"
      },
      "execution_count": null,
      "outputs": []
    },
    {
      "cell_type": "markdown",
      "source": [
        "## Investigate How Volatility Affects Stock Price Stability\n",
        "\n",
        "In thisa section begin by analysing how different levels of volatility impact the stability of stock prices and the potential for investment gains or losses. Discuss the observed trends and implications.\n",
        "\n"
      ],
      "metadata": {
        "id": "Ec9uL2_UO6nP"
      }
    },
    {
      "cell_type": "code",
      "source": [
        "# Code to investigate volatility goes here\n",
        "\n",
        "#Made with Ai#\n",
        "\n",
        "from simulacra.stock_market_simulation import StockMarketSimulation\n",
        "import matplotlib.pyplot as plt\n",
        "\n",
        "# Write a helper function\n",
        "def plot_prices(prices, event_day=None):\n",
        "    \"\"\"\n",
        "    Plots the stock prices from a simulation with an optional vertical line marking a major market event.\n",
        "\n",
        "    Parameters:\n",
        "        prices (List[float]): A list of stock prices to be plotted.\n",
        "        event_day (Optional[int]): The day on which the major market event occurs (defaults to None).\n",
        "\n",
        "    Returns:\n",
        "        None\n",
        "    \"\"\"\n",
        "    plt.figure(figsize=(10, 6))\n",
        "    plt.plot(prices, label='Stock Price')\n",
        "    if event_day is not None:\n",
        "        plt.axvline(x=event_day, color='red', linestyle='--', label='Major Market Event')\n",
        "    plt.xlabel('Days')\n",
        "    plt.ylabel('Price ($)')\n",
        "    plt.title('Stock Market Simulation')\n",
        "    plt.legend()\n",
        "    plt.show()\n",
        "\n",
        "# Function to run simulation with varying volatility\n",
        "def run_simulation_with_volatility(volatility_values):\n",
        "    \"\"\"\n",
        "    Runs simulations with different volatility levels and plots the results.\n",
        "\n",
        "    Parameters:\n",
        "        volatility_values (List[float]): List of volatility values to be tested.\n",
        "\n",
        "    Returns:\n",
        "        None\n",
        "    \"\"\"\n",
        "    for volatility in volatility_values:\n",
        "        # Create the simulation\n",
        "        sim = StockMarketSimulation(start_price=100, days=365, volatility=volatility,\n",
        "                                    drift=-0.001, event_day=100, event_impact=-0.2)\n",
        "\n",
        "        # Run the simulation\n",
        "        prices = sim.run_simulation()\n",
        "\n",
        "        # Visualize the results\n",
        "        plot_prices(prices, sim.event_day)\n",
        "\n",
        "# Define volatility levels to test\n",
        "volatility_values = [0.01, 0.03, 0.05]\n",
        "\n",
        "# Run simulations with different volatility levels\n",
        "run_simulation_with_volatility(volatility_values)\n",
        "\n",
        "import numpy as np\n",
        "\n",
        "# Function to run simulation with varying volatility and collect final prices\n",
        "def run_simulation_with_volatility_collect_final_prices(volatility_values, num_simulations=1000):\n",
        "    \"\"\"\n",
        "    Runs simulations with different volatility levels and collects final prices.\n",
        "\n",
        "    Parameters:\n",
        "        volatility_values (List[float]): List of volatility values to be tested.\n",
        "        num_simulations (int): Number of simulations to run for each volatility level.\n",
        "\n",
        "    Returns:\n",
        "        List[List[float]]: List of final prices for each volatility level.\n",
        "    \"\"\"\n",
        "    final_prices_by_volatility = []\n",
        "\n",
        "    for volatility in volatility_values:\n",
        "        final_prices = []\n",
        "        for _ in range(num_simulations):\n",
        "            # Create the simulation\n",
        "            sim = StockMarketSimulation(start_price=100, days=365, volatility=volatility,\n",
        "                                        drift=-0.001, event_day=100, event_impact=-0.2)\n",
        "            # Run the simulation\n",
        "            prices = sim.run_simulation()\n",
        "            final_prices.append(prices[-1])  # Append the final price\n",
        "        final_prices_by_volatility.append(final_prices)\n",
        "\n",
        "    return final_prices_by_volatility\n",
        "\n",
        "# Function to plot histograms of final prices for each volatility level\n",
        "def plot_final_price_histograms(final_prices_by_volatility, volatility_values):\n",
        "    \"\"\"\n",
        "    Plots histograms of final prices for each volatility level.\n",
        "\n",
        "    Parameters:\n",
        "        final_prices_by_volatility (List[List[float]]): List of final prices for each volatility level.\n",
        "        volatility_values (List[float]): List of volatility values.\n",
        "\n",
        "    Returns:\n",
        "        None\n",
        "    \"\"\"\n",
        "    num_plots = len(volatility_values)\n",
        "    fig, axs = plt.subplots(1, num_plots, figsize=(15, 5), sharey=True)\n",
        "\n",
        "    for i in range(num_plots):\n",
        "        axs[i].hist(final_prices_by_volatility[i], bins=30, alpha=0.6)\n",
        "        axs[i].set_title(f'Volatility = {volatility_values[i]}')\n",
        "        axs[i].set_xlabel('Final Price')\n",
        "        axs[i].set_ylabel('Frequency')\n",
        "\n",
        "    plt.tight_layout()\n",
        "    plt.show()\n",
        "\n",
        "# Define volatility levels to test\n",
        "volatility_values = [0.01, 0.03, 0.05]\n",
        "\n",
        "# Run simulations with different volatility levels and collect final prices\n",
        "final_prices_by_volatility = run_simulation_with_volatility_collect_final_prices(volatility_values)\n",
        "\n",
        "# Plot histograms of final prices for each volatility level\n",
        "plot_final_price_histograms(final_prices_by_volatility, volatility_values)"
      ],
      "metadata": {
        "id": "3wdp7N4-O9FJ"
      },
      "execution_count": null,
      "outputs": []
    },
    {
      "cell_type": "markdown",
      "source": [
        "This shows that increasing volatility leads to more movement in stock prices, resulting in a larger distribution of final prices. This means that higher levels of volatility introduce higher uncertainty in the market, potentially offering a high risk - high reward investment for investors."
      ],
      "metadata": {
        "id": "JQlpZfY2J9gK"
      }
    },
    {
      "cell_type": "markdown",
      "source": [
        "## Simulate a Major Market Event and Analyse Its Impact\n",
        "\n",
        "In this section, set up scenarios where a significant market event affects stock prices on a specific day. Adjust the impact of these events to observe varying outcomes. Discuss the observed trends and implications."
      ],
      "metadata": {
        "id": "ouYX5NXFPRVc"
      }
    },
    {
      "cell_type": "code",
      "source": [
        "# Code to assess the impact of a market event\n",
        "import numpy as np\n",
        "import matplotlib.pyplot as plt\n",
        "from simulacra.stock_market_simulation import StockMarketSimulation\n",
        "\n",
        "# Function to run simulation with varying event impact and collect final prices\n",
        "def run_simulation_with_event_impact_collect_final_prices(event_impact_values, num_simulations=1000):\n",
        "    final_prices_by_event_impact = []\n",
        "    for event_impact in event_impact_values:\n",
        "        final_prices = [StockMarketSimulation(start_price=100, days=365, volatility=0.03,\n",
        "                                               drift=-0.001, event_day=100, event_impact=event_impact)\n",
        "                        .run_simulation()[-1] for _ in range(num_simulations)]\n",
        "        final_prices_by_event_impact.append(final_prices)\n",
        "    return final_prices_by_event_impact\n",
        "\n",
        "# Function to plot histograms of final prices for each event impact level\n",
        "def plot_final_price_histograms(final_prices_by_event_impact, event_impact_values):\n",
        "    for final_prices, event_impact in zip(final_prices_by_event_impact, event_impact_values):\n",
        "        plt.hist(final_prices, bins=30, alpha=0.6, label=f'Event Impact = {event_impact}')\n",
        "    plt.xlabel('Final Price')\n",
        "    plt.ylabel('Frequency')\n",
        "    plt.title('Distribution of Final Prices with Different Event Impacts')\n",
        "    plt.legend()\n",
        "    plt.show()\n",
        "\n",
        "# Define event impact levels to test\n",
        "event_impact_values = [-0.1, -0.2, -0.3]\n",
        "\n",
        "# Run simulations with different event impact levels and collect final prices\n",
        "final_prices_by_event_impact = run_simulation_with_event_impact_collect_final_prices(event_impact_values)\n",
        "\n",
        "# Plot histograms of final prices for each event impact level\n",
        "plot_final_price_histograms(final_prices_by_event_impact, event_impact_values)"
      ],
      "metadata": {
        "id": "6SXNet1SPbeT"
      },
      "execution_count": null,
      "outputs": []
    },
    {
      "cell_type": "markdown",
      "source": [
        "\n",
        "With more influential market events, there is a shift towards lower final stock prices, showing increased market volatility and increased potential losses. This highlights the importance of risk assessment and management strategies to limit the impact of significant market events on investment portfolios."
      ],
      "metadata": {
        "id": "OssnTwDoMVxV"
      }
    },
    {
      "cell_type": "markdown",
      "source": [
        "## (Optional) Develop and Test Trading Strategies\n",
        "\n",
        "In this section, explore basic trading strategies such as \"buy and hold\", \"moving average crossover\", or \"momentum-based\" strategies. Implement these strategies in your simulation to test their effectiveness over time. Discuss the observed trends and implications."
      ],
      "metadata": {
        "id": "UMbo3KNDPcBe"
      }
    },
    {
      "cell_type": "code",
      "source": [
        "# Code to test trading strategies.\n",
        "import numpy as np\n",
        "import matplotlib.pyplot as plt\n",
        "from simulacra.stock_market_simulation import StockMarketSimulation\n",
        "\n",
        "# Define functions for trading strategies\n",
        "\n",
        "def buy_and_hold(prices):\n",
        "    return prices[0], prices[-1]\n",
        "\n",
        "def moving_average_crossover(prices, short_window=50, long_window=200):\n",
        "    short_ma = np.mean(prices[-short_window:])\n",
        "    long_ma = np.mean(prices[-long_window:])\n",
        "    if short_ma > long_ma:\n",
        "        return prices[-1], 'Buy'\n",
        "    else:\n",
        "        return prices[-1], 'Sell'\n",
        "\n",
        "def momentum_based(prices, window=50):\n",
        "    recent_price = prices[-1]\n",
        "    past_price = np.mean(prices[-window:])\n",
        "    if recent_price > past_price:\n",
        "        return prices[-1], 'Buy'\n",
        "    else:\n",
        "        return prices[-1], 'Sell'\n",
        "\n",
        "# Function to run simulation and apply trading strategy\n",
        "def run_simulation_with_strategy(strategy_func, volatility=0.03):\n",
        "    sim = StockMarketSimulation(start_price=100, days=365, volatility=volatility,\n",
        "                                drift=-0.001, event_day=100, event_impact=-0.2)\n",
        "    prices = sim.run_simulation()\n",
        "    return strategy_func(prices)\n",
        "\n",
        "# Run simulations for each strategy\n",
        "buy_and_hold_result = run_simulation_with_strategy(buy_and_hold)\n",
        "moving_average_result = run_simulation_with_strategy(moving_average_crossover)\n",
        "momentum_based_result = run_simulation_with_strategy(momentum_based)\n",
        "\n",
        "# Display results\n",
        "print(\"Buy and Hold Strategy Result:\", buy_and_hold_result)\n",
        "print(\"Moving Average Crossover Strategy Result:\", moving_average_result)\n",
        "print(\"Momentum-Based Strategy Result:\", momentum_based_result)\n"
      ],
      "metadata": {
        "id": "WS5HweX2PoNi"
      },
      "execution_count": null,
      "outputs": []
    },
    {
      "cell_type": "markdown",
      "source": [
        "Overall, the effectiveness of each strategy depends on market conditions and the specific parameters chosen. Investors should carefully evaluate and backtest strategies to understand their performance characteristics and risks before implementing them in live trading."
      ],
      "metadata": {
        "id": "x5e1GzL2Oa88"
      }
    },
    {
      "cell_type": "markdown",
      "source": [
        "## Conclusions\n",
        "From these simulations, it was clear that businesses operating in volatile markets must have a plan for price flucuations. By planning and delivering risk management strategies, businesses can enhance their resilience and competitiveness in volatile market environments.\n",
        "\n",
        "## Challenges and Further Research\n",
        "I believe that my limited exposure and knwoledge of coding hindered me from concoting a more elegant, sophisticated simulation of the stock market. With more complicated market events.\n",
        "\n",
        "## References and Additional Resources\n",
        "Thakar, Chainika. 2023. \"Volatility And Measures Of Risk-Adjusted Return With Python\". Quantinsti\n",
        " https://blog.quantinsti.com/volatility-and-measures-of-risk-adjusted-return-based-on-volatility/#:~:text=Historical%20volatility,-We%20will%20discuss&text=First%2C%20we%20use%20the%20log,window%20of%20252%20trading%20days.\n",
        "\n",
        " https://vanmin-my.sharepoint.com/:w:/g/personal/eddie_vanmin_com_au/EZqyM6QQwHRPn28EUqfG9nsBGQQs3dSLl5gimNe70nUxjg?e=Y02IhN"
      ],
      "metadata": {
        "id": "NBJcxhg1P4ui"
      }
    }
  ]
}